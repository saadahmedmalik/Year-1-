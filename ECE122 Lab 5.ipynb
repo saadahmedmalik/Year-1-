{
  "nbformat": 4,
  "nbformat_minor": 0,
  "metadata": {
    "colab": {
      "provenance": [],
      "toc_visible": true
    },
    "kernelspec": {
      "display_name": "Python 3",
      "language": "python",
      "name": "python3"
    },
    "language_info": {
      "codemirror_mode": {
        "name": "ipython",
        "version": 3
      },
      "file_extension": ".py",
      "mimetype": "text/x-python",
      "name": "python",
      "nbconvert_exporter": "python",
      "pygments_lexer": "ipython3",
      "version": "3.7.4"
    }
  },
  "cells": [
    {
      "cell_type": "markdown",
      "source": [
        "#As a reminder: You are not allowed to change/modify/add instructions in the main program that are provided to you"
      ],
      "metadata": {
        "id": "U-CQRRDWPaCg"
      }
    },
    {
      "cell_type": "markdown",
      "metadata": {
        "id": "wAPcq4ssZVzh"
      },
      "source": [
        "# Method objects- Application 1"
      ]
    },
    {
      "cell_type": "code",
      "metadata": {
        "id": "5XGoV1HL2cO4",
        "colab": {
          "base_uri": "https://localhost:8080/"
        },
        "outputId": "271e4469-1f28-4d68-a4ee-e599d66fc168"
      },
      "source": [
        "#Q1 [2pts]: Write the class Circle. The output of the program should be:\n",
        "#          Hint: radius is an attribute (instance variable)\n",
        "#                compute_perimeter is a method\n",
        "\"\"\"\n",
        "radius is 3.0\n",
        "perimeter is 18.84955592153876\n",
        "\"\"\"\n",
        "import math\n",
        "class Circle:\n",
        "  def __init__(self,radius=0):\n",
        "    self.radius=radius\n",
        "\n",
        "  def compute_perimeter(self):\n",
        "     return 2*math.pi*self.radius\n",
        "\n",
        "# Main program\n",
        "circ1=Circle(3.0)\n",
        "print(\"radius is\",circ1.radius)\n",
        "print(\"perimeter is\",circ1.compute_perimeter())"
      ],
      "execution_count": null,
      "outputs": [
        {
          "output_type": "stream",
          "name": "stdout",
          "text": [
            "radius is 3.0\n",
            "perimeter is 18.84955592153876\n"
          ]
        }
      ]
    },
    {
      "cell_type": "code",
      "metadata": {
        "id": "l-yuwDkfZaCU",
        "colab": {
          "base_uri": "https://localhost:8080/"
        },
        "outputId": "2c6b350c-9c1f-4828-f11d-dd7bfd2ea2b9"
      },
      "source": [
        "#Q2 [2pts]: Modify the class Circle (rewrite it below) and include the methods\n",
        "#          __str__ and scale, to get the following output:\n",
        "\"\"\"\n",
        "radius is 3.0\n",
        "radius is 6.0\n",
        "radius is 3.0\n",
        "\"\"\"\n",
        "import math\n",
        "class Circle:\n",
        "  def __init__(self,radius=0):\n",
        "    self.radius=radius\n",
        "  def scale(self,factor):\n",
        "    self.radius=self.radius*factor  \n",
        "  def __str__(self):\n",
        "    return \"radius is %s\"%(self.radius)  \n",
        "\n",
        "\n",
        "# Main program\n",
        "circ1=Circle(3.0)\n",
        "print(circ1)\n",
        "circ1.scale(2.0)\n",
        "print(circ1)\n",
        "circ1.scale(0.5)\n",
        "print(circ1)"
      ],
      "execution_count": null,
      "outputs": [
        {
          "output_type": "stream",
          "name": "stdout",
          "text": [
            "radius is 3.0\n",
            "radius is 6.0\n",
            "radius is 3.0\n"
          ]
        }
      ]
    },
    {
      "cell_type": "markdown",
      "metadata": {
        "id": "pTH1Hy0XItdH"
      },
      "source": [
        "# Method objects- Application 2\n",
        "### Let us create and use a new class representing quadratic equation (polynomial of order 2) of type:\n",
        " $a_0+a_1x+a_2x^2$"
      ]
    },
    {
      "cell_type": "code",
      "metadata": {
        "id": "mFKSX8WITqSp",
        "colab": {
          "base_uri": "https://localhost:8080/"
        },
        "outputId": "6e5ccd63-e93a-439d-a8dd-3edddb11daa3"
      },
      "source": [
        "#Q3 [2pts]: Write the class Quad. You will consider 3 arguments representing \n",
        "# the coefficients  c0, c1, and c2  but you will be using a single instance\n",
        "# attribute coef that will store the coefficients in a list. \n",
        "# The coefficient  ci  should be stored in the coef list at index i.\n",
        "# The __init__ method should contain a single instruction.\n",
        "# you will need a __str__ method too.\n",
        "# The output of the program should be:\n",
        "\"\"\"\n",
        "(-1)+(3)x+(2)x^2\n",
        "\"\"\"\n",
        "\n",
        "class Quad:\n",
        "  def __init__(self,c0,c1,c2):\n",
        "    self.coef=[c0,c1,c2]\n",
        "    \n",
        "  def __str__(self):\n",
        "    return \"(%s)+(%s)x+(%s)x^2\"%(self.coef[0],self.coef[1],self.coef[2]) \n",
        "\n",
        "#Main program\n",
        "q1=Quad(-1,3,2)\n",
        "print(q1)"
      ],
      "execution_count": null,
      "outputs": [
        {
          "output_type": "stream",
          "name": "stdout",
          "text": [
            "(-1)+(3)x+(2)x^2\n"
          ]
        }
      ]
    },
    {
      "cell_type": "code",
      "metadata": {
        "id": "0X-5jygnUUeQ",
        "colab": {
          "base_uri": "https://localhost:8080/"
        },
        "outputId": "f2ffbb35-7376-46b0-b191-d4d9cdae7119"
      },
      "source": [
        "### Q4 [2pts]: Rewrite and modify the entire Quad class to obtain this output:\n",
        "\"\"\"\n",
        "0.0\n",
        "(-1)+(3)x+(2)x^2\n",
        "\"\"\"\n",
        "class Quad:\n",
        "  def __init__(self,c0=0.0,c1=0.0,c2=0.0):\n",
        "    self.coef=[c0,c1,c2]\n",
        "\n",
        "  def __str__(self):\n",
        "    if self.coef[0]==0 and self.coef[1]==0 and self.coef[2]==0:\n",
        "      return \"0.0\"\n",
        "    else:\n",
        "      return \"(%s)+(%s)x+(%s)x^2\"%(self.coef[0],self.coef[1],self.coef[2])  \n",
        "\n",
        "\n",
        "  \n",
        "#Main program\n",
        "q0=Quad()\n",
        "print(q0)\n",
        "q1=Quad(-1,3,2)\n",
        "print(q1)"
      ],
      "execution_count": null,
      "outputs": [
        {
          "output_type": "stream",
          "name": "stdout",
          "text": [
            "0.0\n",
            "(-1)+(3)x+(2)x^2\n"
          ]
        }
      ]
    },
    {
      "cell_type": "code",
      "metadata": {
        "id": "gRvR_qDbt4Sb",
        "colab": {
          "base_uri": "https://localhost:8080/"
        },
        "outputId": "9a5f3ffd-f2dd-4964-f643-c41a870e4fc9"
      },
      "source": [
        "#Q5 [2pts]: Rewrite the class Quad and include the method evaluate to obtain:\n",
        "\"\"\"\n",
        "(-1)+(3)x+(2)x^2\n",
        "f(-1.5)=-1.0\n",
        "f(-1.0)=-2.0\n",
        "f(-0.5)=-2.0\n",
        "f(0.0)=-1.0\n",
        "f(0.5)=1.0\n",
        "f(1.0)=4.0\n",
        "f(1.5)=8.0\n",
        "\"\"\"\n",
        "class Quad:\n",
        "  def __init__(self,c0=0,c1=0,c2=0):\n",
        "    self.coef=[c0,c1,c2]\n",
        "  def evaluate(self,a):\n",
        "    y=(self.coef[0])+(a*self.coef[1])+((a**2)*self.coef[2])\n",
        "    return y\n",
        "  def __str__(self):\n",
        "    if self.coef[0]==0 and self.coef[1]==0 and self.coef[2]==0:\n",
        "      return \"0.0\"\n",
        "    else:\n",
        "      return \"(%s)+(%s)x+(%s)x^2\"%(self.coef[0],self.coef[1],self.coef[2])      \n",
        "  \n",
        "\n",
        "#Main program\n",
        "q1=Quad(-1,3,2)\n",
        "print(q1)\n",
        "for i in range(7):\n",
        "  x=-1.5+0.5*i\n",
        "  print(\"f(%s)=%s\"%(x,q1.evaluate(x)))"
      ],
      "execution_count": null,
      "outputs": [
        {
          "output_type": "stream",
          "name": "stdout",
          "text": [
            "(-1)+(3)x+(2)x^2\n",
            "f(-1.5)=-1.0\n",
            "f(-1.0)=-2.0\n",
            "f(-0.5)=-2.0\n",
            "f(0.0)=-1.0\n",
            "f(0.5)=1.0\n",
            "f(1.0)=4.0\n",
            "f(1.5)=8.0\n"
          ]
        }
      ]
    },
    {
      "cell_type": "code",
      "metadata": {
        "id": "oDMzsXvhvxRN",
        "colab": {
          "base_uri": "https://localhost:8080/"
        },
        "outputId": "f8d15ab2-4eb3-45cb-986d-f79c8ba70381"
      },
      "source": [
        "#Q6 [2pts]: Rewrite the class Quad to include the discriminant and \n",
        "#solve methods, to obtain: \n",
        "#(Requirement: the solve method must call the discriminant method)\n",
        "\"\"\"\n",
        "(-2)+(3)x+(2)x^2\n",
        "discriminant is  25\n",
        "solutions of f(x)=0 are [0.5, -2.0]\n",
        "Let us check\n",
        "f(0.5)=0.0\n",
        "f(-2.0)=0.0\n",
        "\"\"\"\n",
        "import math\n",
        "\n",
        "class Quad:\n",
        "  def __init__(self,c0=0,c1=0,c2=0):\n",
        "    self.coef=[c0,c1,c2]\n",
        "\n",
        "  def evaluate(self,a):\n",
        "    y=(self.coef[0])+(a*(self.coef[1]))+((a**2)*(self.coef[2]))\n",
        "    return y\n",
        "\n",
        "  def discriminant(self):\n",
        "    dis=((self.coef[1])**2)-(4*(self.coef[0])*(self.coef[2]))  \n",
        "    return dis\n",
        "\n",
        "  def solve(self):\n",
        "    solutions=[]\n",
        "    disc=self.discriminant()\n",
        "    sp=(-(self.coef[1])+(math.sqrt(disc)))/(2*self.coef[2])\n",
        "    solutions=solutions+[sp]\n",
        "    sm=(-(self.coef[1])-(math.sqrt(disc)))/(2*self.coef[2])\n",
        "    solutions=solutions+[sm]\n",
        "    return solutions\n",
        "\n",
        "  def __str__(self):\n",
        "    if self.coef[0]==0 and self.coef[1]==0 and self.coef[2]==0:\n",
        "      return \"0.0\"\n",
        "    else:\n",
        "      return \"(%s)+(%s)x+(%s)x^2\"%(self.coef[0],self.coef[1],self.coef[2])       \n",
        "\n",
        "\n",
        "\n",
        "  \n",
        "\n",
        "### Main program\n",
        "q1=Quad(-2,3,2)\n",
        "print(q1)\n",
        "print(\"discriminant is \",q1.discriminant())\n",
        "solutions=q1.solve()\n",
        "print(\"solutions of f(x)=0 are\",solutions)\n",
        "print(\"Let us check\")\n",
        "print(\"f(%s)=%s\"%(solutions[0],q1.evaluate(solutions[0])))\n",
        "print(\"f(%s)=%s\"%(solutions[1],q1.evaluate(solutions[1])))"
      ],
      "execution_count": null,
      "outputs": [
        {
          "output_type": "stream",
          "name": "stdout",
          "text": [
            "(-2)+(3)x+(2)x^2\n",
            "discriminant is  25\n",
            "solutions of f(x)=0 are [0.5, -2.0]\n",
            "Let us check\n",
            "f(0.5)=0.0\n",
            "f(-2.0)=0.0\n"
          ]
        }
      ]
    }
  ]
}