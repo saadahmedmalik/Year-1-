{
  "cells": [
    {
      "cell_type": "markdown",
      "metadata": {
        "id": "wAPcq4ssZVzh"
      },
      "source": [
        "# String and List Methods"
      ]
    },
    {
      "cell_type": "code",
      "execution_count": 1,
      "metadata": {
        "id": "5XGoV1HL2cO4",
        "colab": {
          "base_uri": "https://localhost:8080/"
        },
        "outputId": "d13b7057-515c-44da-8780-29c5398e6a1b"
      },
      "outputs": [
        {
          "output_type": "stream",
          "name": "stdout",
          "text": [
            "Enter your favorite animals: cat dog deer\n",
            "CAT DOG DEER\n"
          ]
        }
      ],
      "source": [
        "#Q1 [1pt]: In only one line collect the input (cat dog deer) from the user\n",
        "#           and return the output in upper case.\n",
        "\"\"\"\n",
        "Enter your three favorite animals: cat dog deer\n",
        "CAT DOG DEER\n",
        "\"\"\"\n",
        "# your code\n",
        "print(\"%s\"%(input(\"Enter your favorite animals: \").upper()))"
      ]
    },
    {
      "cell_type": "code",
      "execution_count": 2,
      "metadata": {
        "id": "7DGEJxAmZ8I0",
        "colab": {
          "base_uri": "https://localhost:8080/"
        },
        "outputId": "1fd3c0cb-f0af-4d97-d4f9-bae86bd550fa"
      },
      "outputs": [
        {
          "output_type": "stream",
          "name": "stdout",
          "text": [
            "Enter your three favorite animals: cat dog deer\n",
            "CAT DOG DEER\n"
          ]
        }
      ],
      "source": [
        "#Q2 [1pt]: In only one line, collect these three animal inputs from the user\n",
        "#     (you will use the variables a, b and c to assign the animals), and display:\n",
        "\"\"\"\n",
        "Enter your three favorite animals: cat dog deer\n",
        "CAT DOG DEER\n",
        "\"\"\"\n",
        "#your code\n",
        "a,b,c=input(\"Enter your three favorite animals: \").upper().split()\n",
        "print(a,b,c)"
      ]
    },
    {
      "cell_type": "code",
      "execution_count": null,
      "metadata": {
        "id": "l-yuwDkfZaCU",
        "colab": {
          "base_uri": "https://localhost:8080/"
        },
        "outputId": "a8a79245-9847-43c7-ba10-da12f86972dd"
      },
      "outputs": [
        {
          "output_type": "stream",
          "name": "stdout",
          "text": [
            "['Cat', 'Dog', 'Deer']\n"
          ]
        }
      ],
      "source": [
        "#Q3 [1pt]: Use the List method 'reverse' to obtain: (Hint: reverse works in place)\n",
        "\"\"\"\n",
        "['Cat','Dog','Deer']\n",
        "\"\"\"\n",
        "animals=[\"Deer\",\"Dog\",\"Cat\"]\n",
        "#your code\n",
        "animals.reverse()\n",
        "print(animals)\n"
      ]
    },
    {
      "cell_type": "code",
      "execution_count": null,
      "metadata": {
        "id": "bJa8yAdLjvYm",
        "colab": {
          "base_uri": "https://localhost:8080/"
        },
        "outputId": "8cda5b41-b48a-4e90-ae7a-20ea1e94db9b"
      },
      "outputs": [
        {
          "output_type": "stream",
          "name": "stdout",
          "text": [
            "Enter your sentence: ready for mid-term\n",
            "READY\n",
            "FOR\n",
            "MID-TERM\n"
          ]
        }
      ],
      "source": [
        "#Q4 [1pt]: Write a code that will provide the following output using your input.\n",
        "# Hint: split your input by creating a list, and use a for loop to scan the list.\n",
        "\"\"\"\n",
        "Enter your sentence: ready for mid-term\n",
        "READY\n",
        "FOR\n",
        "MID-TERM\n",
        "\"\"\"\n",
        "# your code\n",
        "a,b,c=input(\"Enter your sentence: \").split()\n",
        "for letter in [a,b,c]:\n",
        "  if a==\"ready\" and b==\"for\" and c==\"mid-term\":\n",
        "    print(a.upper())\n",
        "    print(b.upper())\n",
        "    print(c.upper())\n",
        "    break\n",
        "\n"
      ]
    },
    {
      "cell_type": "markdown",
      "metadata": {
        "id": "pTH1Hy0XItdH"
      },
      "source": [
        "# I/O Files"
      ]
    },
    {
      "cell_type": "code",
      "execution_count": null,
      "metadata": {
        "id": "mFKSX8WITqSp"
      },
      "outputs": [],
      "source": [
        "#Q5 [1pt]: We want to create a new file named ‘output.txt’ which will contain\n",
        "#          this one line: \n",
        "\"\"\"\n",
        "Spring Break is Over :-(\n",
        "\"\"\"\n",
        "\n",
        "###Provide the program using only the methods open(),write(),close()\n",
        "file=open(\"output.txt\",\"w\")\n",
        "file.write(\"Spring Break is over :-(\")\n",
        "file.close()\n",
        "\n",
        "\n"
      ]
    },
    {
      "cell_type": "code",
      "execution_count": null,
      "metadata": {
        "id": "dMWAMeuqMnAS",
        "colab": {
          "base_uri": "https://localhost:8080/"
        },
        "outputId": "9f1af9f6-df91-4df8-dc97-97fdb11ceba0"
      },
      "outputs": [
        {
          "output_type": "stream",
          "name": "stdout",
          "text": [
            "Spring Break is over :-(\n"
          ]
        }
      ],
      "source": [
        "#Follow-up [1pt]: Now that the file \"output.txt\" has been created, you can open it\n",
        "#           using the read method and display its content\n",
        "\"\"\"\n",
        "Spring Break is Over :-(\n",
        "\"\"\"\n",
        "# your code\n",
        "file=open(\"output.txt\",\"r\")\n",
        "print(file.read())\n",
        "\n",
        "\n"
      ]
    },
    {
      "cell_type": "code",
      "execution_count": 11,
      "metadata": {
        "colab": {
          "base_uri": "https://localhost:8080/"
        },
        "id": "Vteztps0vLQB",
        "outputId": "20c85546-521d-42ae-97cf-a31125e51be6"
      },
      "outputs": [
        {
          "output_type": "stream",
          "name": "stdout",
          "text": [
            "file created: colors.txt\n"
          ]
        }
      ],
      "source": [
        "### Q6         John is using this program to generate a file \"output.txt\"\n",
        "#              that contains a series of 1000 different colors chosen at random\n",
        "#               between 8 colors. (Just execute the file below)  \n",
        "import random\n",
        "random.seed(7)\n",
        "colors=[\"blue\",\"black\",\"red\",\"yellow\",\"green\",\"purple\",\"gray\",\"pink\"]\n",
        "f1=open(\"colors.txt\",\"w\")\n",
        "for i in range(1000):\n",
        "  f1.write(random.choice(colors)+\"\\n\")\n",
        "print(\"file created:\",f1.name)\n",
        "f1.close()"
      ]
    },
    {
      "cell_type": "code",
      "execution_count": 12,
      "metadata": {
        "id": "grZCrKjVU--t",
        "colab": {
          "base_uri": "https://localhost:8080/"
        },
        "outputId": "27ee5389-1fd9-4bee-d239-38c7821ad1c7"
      },
      "outputs": [
        {
          "output_type": "stream",
          "name": "stdout",
          "text": [
            "There is 111 purple colors in colors.txt\n"
          ]
        }
      ],
      "source": [
        "# Follow-up [1pt]: Kelly is going to use John's file to count how many 'purple' \n",
        "#       colors are in there, write Kelly's program below, output should be: \n",
        "#    (Hint: when you extract a line, the string that you obtain contains a \\n at\n",
        "#           the end, you may need to strip it)\n",
        "\"\"\"\n",
        "There is 111 purple colors in colors.txt\n",
        "\"\"\"\n",
        "\n",
        "f1=open(\"colors.txt\",\"r\")\n",
        "# to complete\n",
        "number=f1.read()\n",
        "count=number.count(\"purple\")\n",
        "\n",
        "\n",
        "\n",
        "print(\"There is %s purple colors in %s\"%(count,f1.name))\n",
        "f1.close()"
      ]
    },
    {
      "cell_type": "code",
      "execution_count": 13,
      "metadata": {
        "id": "0X-5jygnUUeQ"
      },
      "outputs": [],
      "source": [
        "#Follow-up [2pt]: Michael wants to use John's file and create a new file\n",
        "#  named \"newcolors.txt\" where all the \"yellow\", \"black\", and \"pink\" colors \n",
        "#  have been changed to purple\n",
        "\n",
        "# your code\n",
        "f1=open(\"colors.txt\",\"r\")\n",
        "\n",
        "replaced=\"\"\n",
        "\n",
        "for line in f1:\n",
        "  line=line.strip()\n",
        "  if line==\"yellow\":\n",
        "    new_line=line.replace(\"yellow\",\"purple\")\n",
        "    replaced=replaced+new_line+\"\\n\"\n",
        "  elif line==\"pink\":\n",
        "    new_line=line.replace(\"pink\",\"purple\")\n",
        "    replaced=replaced+new_line+\"\\n\" \n",
        "  elif line==\"black\":\n",
        "    new_line=line.replace(\"black\",\"purple\")\n",
        "    replaced=replaced+new_line+\"\\n\" \n",
        "  else:\n",
        "    replaced=replaced+line+\"\\n\"\n",
        "f1.close()\n",
        "f2=open(\"newcolors.txt\",\"w\")\n",
        "f2.write(replaced)\n",
        "f2.close()       \n",
        "\n",
        "\n"
      ]
    },
    {
      "cell_type": "code",
      "execution_count": 14,
      "metadata": {
        "id": "Qjvf6aB9cLr3",
        "colab": {
          "base_uri": "https://localhost:8080/"
        },
        "outputId": "81267d63-4f50-48ce-93d5-757075d8541c"
      },
      "outputs": [
        {
          "output_type": "stream",
          "name": "stdout",
          "text": [
            "There is 506 purple colors in newcolors.txt\n"
          ]
        }
      ],
      "source": [
        "#Follow-up [Mandatory]: it is now time to try Kelly's code on Michael's new file \n",
        "#      to obtain the new number of purple colors (that you will need to display)\n",
        "#      Just-cc paste Kelly's code using the new file name.\n",
        "\"\"\"\n",
        "There is 506 purple colors in newcolors.txt\n",
        "\"\"\"\n",
        "f1=open(\"newcolors.txt\",\"r\")\n",
        "# to complete (cc-paste Kelly code above)\n",
        "number=f1.read()\n",
        "count=number.count(\"purple\")\n",
        "\n",
        "\n",
        "\n",
        "\n",
        "print(\"There is %s purple colors in %s\"%(count,f1.name))\n",
        "f1.close()"
      ]
    },
    {
      "cell_type": "markdown",
      "metadata": {
        "id": "mhcop6sUtibE"
      },
      "source": [
        "# I/O Graphics \n",
        "### Unfortunately we cannot run tkinter on google colab- Here is how we will proceed:\n",
        "### 1- use your IDE (VScode) to answer the question\n",
        "### 2- copy-paste your code here in google colab (it will not be able to run here-- this is just for grading purpose)"
      ]
    },
    {
      "cell_type": "code",
      "execution_count": null,
      "metadata": {
        "id": "uj_bzwKo51Vh"
      },
      "outputs": [],
      "source": [
        "#Q7 [3pts]: We want to use tkinter to draw onto a 500x500 window/canvas. \n",
        "# Centered in the middle of the window, draw a black unfilled square of\n",
        "# size 300x300. Draw a blue unfilled circle of radius 150 that is inside the square.\n",
        "# Draw another green circumscribed unfilled circle (a circle that passes through all \n",
        "#the vertices of your square).  Complete the following code\n",
        "\n",
        "\n",
        "# you code cc-paste here (not for running)\n",
        "from tkinter import *\n",
        "root=Tk()\n",
        "canvas=Canvas(root,width=500,height=500,bg='white')\n",
        "canvas.pack()\n",
        "canvas.create_rectangle(100,100,400,400,outline='black')\n",
        "canvas.create_oval(100,100,400,400,outline='blue')\n",
        "canvas.create_oval(37,37,463,463,outline='green')\n",
        "root.mainloop()\n",
        "\n",
        "\n",
        "\n"
      ]
    }
  ],
  "metadata": {
    "colab": {
      "provenance": [],
      "toc_visible": true
    },
    "kernelspec": {
      "display_name": "Python 3",
      "language": "python",
      "name": "python3"
    },
    "language_info": {
      "codemirror_mode": {
        "name": "ipython",
        "version": 3
      },
      "file_extension": ".py",
      "mimetype": "text/x-python",
      "name": "python",
      "nbconvert_exporter": "python",
      "pygments_lexer": "ipython3",
      "version": "3.7.4"
    }
  },
  "nbformat": 4,
  "nbformat_minor": 0
}