{
  "nbformat": 4,
  "nbformat_minor": 0,
  "metadata": {
    "colab": {
      "provenance": [],
      "toc_visible": true
    },
    "kernelspec": {
      "display_name": "Python 3",
      "language": "python",
      "name": "python3"
    },
    "language_info": {
      "codemirror_mode": {
        "name": "ipython",
        "version": 3
      },
      "file_extension": ".py",
      "mimetype": "text/x-python",
      "name": "python",
      "nbconvert_exporter": "python",
      "pygments_lexer": "ipython3",
      "version": "3.7.4"
    }
  },
  "cells": [
    {
      "cell_type": "markdown",
      "metadata": {
        "id": "wAPcq4ssZVzh"
      },
      "source": [
        "# Variable, Type and Input/Output"
      ]
    },
    {
      "cell_type": "code",
      "metadata": {
        "id": "5XGoV1HL2cO4",
        "colab": {
          "base_uri": "https://localhost:8080/"
        },
        "outputId": "82dec312-77a5-4895-e4c7-c552b24f7b90"
      },
      "source": [
        "#Q1 [1pt]: Complete the instruction (second line) to display:\n",
        "\"\"\"\n",
        "This is my first lab\n",
        "\"\"\"\n",
        "\n",
        "phrase = \"This is\"\n",
        "phrase = phrase+\" my first lab\"\n",
        "print(phrase)"
      ],
      "execution_count": null,
      "outputs": [
        {
          "output_type": "stream",
          "name": "stdout",
          "text": [
            "This is my first lab\n"
          ]
        }
      ]
    },
    {
      "cell_type": "code",
      "metadata": {
        "id": "l-yuwDkfZaCU",
        "colab": {
          "base_uri": "https://localhost:8080/"
        },
        "outputId": "852cc9e8-d095-4b24-9c13-4aab7552dfcf"
      },
      "source": [
        "#Q2 [1pt]: Complete the instruction to display: (you will use the keyword sep)\n",
        "\"\"\"\n",
        "S-O-S\n",
        "\"\"\"\n",
        "\n",
        "print(\"S\",\"O\",\"S\",sep=\"-\") "
      ],
      "execution_count": null,
      "outputs": [
        {
          "output_type": "stream",
          "name": "stdout",
          "text": [
            "S-O-S\n"
          ]
        }
      ]
    },
    {
      "cell_type": "code",
      "metadata": {
        "id": "6YNTMpvrXOIr",
        "colab": {
          "base_uri": "https://localhost:8080/"
        },
        "outputId": "929a79ee-2798-4444-f7ef-a07f7b7c0fae"
      },
      "source": [
        "#Q3 [1pt]: Complete the last instruction to display (Requirement: use variables x and y, and the embedded approach with %s symbol)):\n",
        "\"\"\"\n",
        "The product of 3 and 4 is 12\n",
        "\"\"\"\n",
        "\n",
        "x,y = 3,\"4\"\n",
        "print(\"The product of %s and %s is %s\"%(x,int(y),x*int(y)))"
      ],
      "execution_count": null,
      "outputs": [
        {
          "output_type": "stream",
          "name": "stdout",
          "text": [
            "The product of 3 and 4 is 12\n"
          ]
        }
      ]
    },
    {
      "cell_type": "code",
      "metadata": {
        "id": "pyaPFd5_UsbF",
        "colab": {
          "base_uri": "https://localhost:8080/"
        },
        "outputId": "9b145810-3ffb-4638-9f6a-d680e0ce24f3"
      },
      "source": [
        "#Q4 [0.5pt]: Complete the first the instruction (one line) to display:\n",
        "\"\"\"\n",
        "Hello World\n",
        "\"\"\"\n",
        "\n",
        "hello,world=\"Hello\",\"World\"\n",
        "phrase = \"%s %s\"%(hello,world)\n",
        "print(phrase)"
      ],
      "execution_count": null,
      "outputs": [
        {
          "output_type": "stream",
          "name": "stdout",
          "text": [
            "Hello World\n"
          ]
        }
      ]
    },
    {
      "cell_type": "code",
      "metadata": {
        "id": "uNTvn5SUU7oI",
        "colab": {
          "base_uri": "https://localhost:8080/"
        },
        "outputId": "84216afe-c94e-4201-85f5-d14e0cf0d7d2"
      },
      "source": [
        "#Q5 [1.5pt]: Fill up the instructions to display: \n",
        "#          (Requirement: use three different print statements and the name and pi variables)\n",
        "\"\"\"\n",
        "pi is 3.14\n",
        "pi is 3.14\n",
        "pi is 3.14\n",
        "\"\"\"\n",
        "\n",
        "name = \"pi\"\n",
        "pi = 3.14\n",
        "# Enter first print statement using comma separated values (three arguments)\n",
        "print(name,\"is\",pi) \n",
        "# Enter second print statement without using comma separated values (only one argument-concatenation) and no % symbol\n",
        "print(name+\" is \"+str(pi)) \n",
        "# Enter third print statement using the % symbols\n",
        "print(\"%s is %s\"%(name,pi))"
      ],
      "execution_count": null,
      "outputs": [
        {
          "output_type": "stream",
          "name": "stdout",
          "text": [
            "pi is 3.14\n",
            "pi is 3.14\n",
            "pi is 3.14\n"
          ]
        }
      ]
    },
    {
      "cell_type": "code",
      "metadata": {
        "id": "VjbwJ-DGSCFd",
        "colab": {
          "base_uri": "https://localhost:8080/"
        },
        "outputId": "1fff0471-ab7d-4bfc-e0bb-13f2dd22a475"
      },
      "source": [
        "#Q6 [1pt]: Fill up the instructions to display:\n",
        "\"\"\"\n",
        "Enter first number: 2.5 (← user input)\n",
        "Enter second number: 1 (← user input)\n",
        "Is your first number 2.5 greater than your second number 1.0?\n",
        "True\n",
        "\"\"\"\n",
        "\n",
        "n1=input(\"Enter first number: \")\n",
        "n2=input(\"Enter second number: \")\n",
        "print(\"Is your first number %s greater than your second number %s? \"%(n1,n2))\n",
        "print(n1>n2)"
      ],
      "execution_count": 14,
      "outputs": [
        {
          "output_type": "stream",
          "name": "stdout",
          "text": [
            "Enter first number: 2.5\n",
            "Enter second number: 1\n",
            "Is your first number 2.5 greater than your second number 1? \n",
            "True\n"
          ]
        }
      ]
    },
    {
      "cell_type": "markdown",
      "metadata": {
        "id": "QXqKJrT9ZcC2"
      },
      "source": [
        "# Functions"
      ]
    },
    {
      "cell_type": "code",
      "metadata": {
        "id": "sOFGShSdPV9E",
        "colab": {
          "base_uri": "https://localhost:8080/"
        },
        "outputId": "f0ffda48-64d4-4804-ec08-6a4d6360aa62"
      },
      "source": [
        "#Q7 [1pt]: Using the function my_function, complete the program (1 instructions needed) to display:\n",
        "#          Requirement: use the sep keyword\n",
        "\"\"\"\n",
        "Hello World! -- Hello World! -- Hello World!\n",
        "\"\"\"\n",
        "\n",
        "def my_function():\n",
        "  return \"Hello World!\"\n",
        "\n",
        "print(my_function(),my_function(),my_function(),sep=\" -- \")"
      ],
      "execution_count": null,
      "outputs": [
        {
          "output_type": "stream",
          "name": "stdout",
          "text": [
            "Hello World! -- Hello World! -- Hello World!\n"
          ]
        }
      ]
    },
    {
      "cell_type": "code",
      "metadata": {
        "id": "xOfoN3KHtgow",
        "colab": {
          "base_uri": "https://localhost:8080/"
        },
        "outputId": "74f6026d-0ddd-4934-afc6-6ef738908983"
      },
      "source": [
        "#Q8 [1pt]: Provide the f(x)=x^2 and g(x)=x+1 math functions to display: (use as many lines as needed)\n",
        "\"\"\"\n",
        "4 3 9 5\n",
        "\"\"\"\n",
        "## functions here\n",
        "def f(x):\n",
        "  return x**2\n",
        "\n",
        "def g(x):\n",
        "  return x+1\n",
        "\n",
        "\n",
        "# Main progrm\n",
        "print(f(2),g(2),f(g(2)),g(f(2)))"
      ],
      "execution_count": 7,
      "outputs": [
        {
          "output_type": "stream",
          "name": "stdout",
          "text": [
            "4 3 9 5\n"
          ]
        }
      ]
    },
    {
      "cell_type": "code",
      "metadata": {
        "id": "6heTeABUq3NZ",
        "colab": {
          "base_uri": "https://localhost:8080/"
        },
        "outputId": "5e1b214a-05f9-416f-9414-24f8ca8da632"
      },
      "source": [
        "#Q9 [1pt]: Provide the function named family in order for the program to display:\n",
        "\"\"\"\n",
        "John CodeWell\n",
        "Mike CodeWell\n",
        "Sarah CodeWell\n",
        "Everybody CodeWell\n",
        "\"\"\"\n",
        "## function here\n",
        "def family(name=\"Everybody\"):\n",
        "     return name+\" Codewell\"\n",
        "\n",
        "\n",
        "## Main program\n",
        "print(family(\"John\"))\n",
        "print(family(\"Mike\"))\n",
        "print(family(\"Sarah\"))\n",
        "print(family())"
      ],
      "execution_count": 6,
      "outputs": [
        {
          "output_type": "stream",
          "name": "stdout",
          "text": [
            "John Codewell\n",
            "Mike Codewell\n",
            "Sarah Codewell\n",
            "Everybody Codewell\n"
          ]
        }
      ]
    },
    {
      "cell_type": "code",
      "metadata": {
        "id": "BJqXaKOJBLnW",
        "colab": {
          "base_uri": "https://localhost:8080/"
        },
        "outputId": "d951065c-944f-4ca4-cda4-1b3ada06ce63"
      },
      "source": [
        "from IPython.core.display import Math\n",
        "#Q10 [2pts]: Complete the following program (Provide the missing 3 functions) to display:\n",
        "\n",
        "\"\"\"\n",
        "Welcome to Quadratic solver for ax**2+bx+c=0\n",
        "\n",
        "(1)*x**2+(3)*x+(2)=0\n",
        "Solution -2.0 with f(-2.0)=0.0\n",
        "Solution -1.0 with f(-1.0)=0.0\n",
        "Extrema at -1.5 with f(-1.5)=-0.25\n",
        "\n",
        "(2)*x**2+(5)*x+(2)=0\n",
        "Solution -2.0 with f(-2.0)=0.0\n",
        "Solution -0.5 with f(-0.5)=0.0\n",
        "Extrema at -1.25 with f(-1.25)=-1.125\n",
        "\"\"\"\n",
        "\n",
        "## functions here\n",
        "def display_equation(a,b,c):\n",
        "  equation=print(a,\"x**2+(\",b,\")*x+(\",c,\")\",sep=\"\")\n",
        "  return equation\n",
        "def get_discriminant(a,b,c):\n",
        "  math=(b**2)-(4*a*c)\n",
        "  return math \n",
        "def f(a,b,c,x):\n",
        "  math2=((a*(x**2))+(b*x)+(c))\n",
        "  return math2\n",
        "\n",
        "\n",
        "\n",
        "\n",
        "\n",
        "## Main program\n",
        "print(\"Welcome to Quadratic solver for ax**2+bx+c=0\\n\")\n",
        "\n",
        "a,b,c=1,3,2\n",
        "display_equation(a,b,c)\n",
        "d=get_discriminant(a,b,c)\n",
        "x1,x2=(-b-d**0.5)/(2*a),(-b+d**0.5)/(2*a)\n",
        "print(\"Solution %s with f(%s)=%s\"%(x1,x1,f(a,b,c,x1)))\n",
        "print(\"Solution %s with f(%s)=%s\"%(x2,x2,f(a,b,c,x2)))\n",
        "x=-b/(2*a)\n",
        "print(\"Extrema at %s with f(%s)=%s\"%(x,x,f(a,b,c,x)))\n",
        "\n",
        "print()\n",
        "\n",
        "a,b,c=2,5,2\n",
        "display_equation(a,b,c)\n",
        "d=get_discriminant(a,b,c)\n",
        "x1,x2=(-b-d**0.5)/(2*a),(-b+d**0.5)/(2*a)\n",
        "print(\"Solution %s with f(%s)=%s\"%(x1,x1,f(a,b,c,x1)))\n",
        "print(\"Solution %s with f(%s)=%s\"%(x2,x2,f(a,b,c,x2)))\n",
        "x=-b/(2*a)\n",
        "print(\"Extrema at %s with f(%s)=%s\"%(x,x,f(a,b,c,x)))"
      ],
      "execution_count": 12,
      "outputs": [
        {
          "output_type": "stream",
          "name": "stdout",
          "text": [
            "Welcome to Quadratic solver for ax**2+bx+c=0\n",
            "\n",
            "1x**2+(3)*x+(2)\n",
            "Solution -2.0 with f(-2.0)=0.0\n",
            "Solution -1.0 with f(-1.0)=0.0\n",
            "Extrema at -1.5 with f(-1.5)=-0.25\n",
            "\n",
            "2x**2+(5)*x+(2)\n",
            "Solution -2.0 with f(-2.0)=0.0\n",
            "Solution -0.5 with f(-0.5)=0.0\n",
            "Extrema at -1.25 with f(-1.25)=-1.125\n"
          ]
        }
      ]
    }
  ]
}