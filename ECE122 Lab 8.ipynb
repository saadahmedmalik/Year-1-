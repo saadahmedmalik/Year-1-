{
  "nbformat": 4,
  "nbformat_minor": 0,
  "metadata": {
    "colab": {
      "provenance": [],
      "toc_visible": true
    },
    "kernelspec": {
      "display_name": "Python 3",
      "language": "python",
      "name": "python3"
    },
    "language_info": {
      "codemirror_mode": {
        "name": "ipython",
        "version": 3
      },
      "file_extension": ".py",
      "mimetype": "text/x-python",
      "name": "python",
      "nbconvert_exporter": "python",
      "pygments_lexer": "ipython3",
      "version": "3.7.4"
    }
  },
  "cells": [
    {
      "cell_type": "markdown",
      "metadata": {
        "id": "wAPcq4ssZVzh"
      },
      "source": [
        "###The goal of this section is to implement a class Gaussian that can be used\n",
        "###to represent a family of Gaussian functions of the form:"
      ]
    },
    {
      "cell_type": "code",
      "source": [
        "#    a*exp(-(x/b)**2)   where a,b are real *non-zero* numbers "
      ],
      "metadata": {
        "id": "rruWqk5tjQQy"
      },
      "execution_count": null,
      "outputs": []
    },
    {
      "cell_type": "markdown",
      "source": [
        "### Write the class Gaussian (you need to proceed step by step) -- do not modify the main codes"
      ],
      "metadata": {
        "id": "aCAj2vyrjRNe"
      }
    },
    {
      "cell_type": "code",
      "source": [],
      "metadata": {
        "id": "pUFc-ZdEf96N"
      },
      "execution_count": null,
      "outputs": []
    },
    {
      "cell_type": "code",
      "metadata": {
        "id": "l-yuwDkfZaCU"
      },
      "source": [
        "import math\n",
        "### class Gaussian here\n",
        "class Gaussian:\n",
        "  def __init__(self,a=1,b=2):\n",
        "    self.set_a(a)\n",
        "    self.set_b(b)\n",
        "\n",
        "  def __str__(self):\n",
        "    return \"%s*exp(-(x**2/%s))\"%(self.a,self.b**2) \n",
        "\n",
        "  def set_a(self,a):\n",
        "    self.a=a\n",
        "\n",
        "  def set_b(self,b):\n",
        "    self.b=b\n",
        "\n",
        "  def get_a(self):\n",
        "    return self.a\n",
        "\n",
        "  def get_b(self):\n",
        "    return self.b\n",
        "\n",
        "  def derive(self):\n",
        "    return \"-%s*exp(-(x**2/%s))*x\"%((self.a)*(2/(self.b**2)),self.b**2)\n",
        "\n",
        "  def __truediv__(self,other):\n",
        "    if ((self.b**2)-(other.b**2))==0:\n",
        "      return (self.a/other.a)\n",
        "    else:\n",
        "      a=self.a/other.a\n",
        "      b=math.sqrt(((other.b**2)*(self.b**2))/(other.b**2-self.b**2))\n",
        "      return Gaussian(a,b)\n",
        "\n",
        "  def __mul__(self,other):\n",
        "    if isinstance(other,(int,float)):\n",
        "      return Gaussian(self.a*other,self.b)\n",
        "    elif isinstance(other, Gaussian):\n",
        "      a=self.a*other.a\n",
        "      b=math.sqrt(((self.b**2)*(other.b**2))/((other.b**2)+(self.b**2)))\n",
        "      return Gaussian(a,b)\n",
        "\n",
        "  def evaluate(self,v):\n",
        "    return ((self.a)*math.exp(-(v**2)/(self.b**2)))\n",
        "\n",
        "  \n",
        "  ### To complete step-by step\n",
        "\n",
        "    "
      ],
      "execution_count": 8,
      "outputs": []
    },
    {
      "cell_type": "code",
      "source": [
        "### [2pts] test constructor and __str__ method. Output is:\n",
        "\"\"\"\n",
        "1 2\n",
        "1*exp(-(x**2/4))\n",
        "3 -3\n",
        "3*exp(-(x**2/9))\n",
        "\"\"\"\n",
        "g1=Gaussian()\n",
        "print(g1.a,g1.b)\n",
        "print(g1)\n",
        "g2=Gaussian(3,-3)\n",
        "print(g2.a,g2.b)\n",
        "print(g2)"
      ],
      "metadata": {
        "id": "tnl-9_Vfw2-o",
        "colab": {
          "base_uri": "https://localhost:8080/"
        },
        "outputId": "31af293d-c937-4084-f322-eda526752307"
      },
      "execution_count": 2,
      "outputs": [
        {
          "output_type": "stream",
          "name": "stdout",
          "text": [
            "1 2\n",
            "1*exp(-(x**2/4))\n",
            "3 -3\n",
            "3*exp(-(x**2/9))\n"
          ]
        }
      ]
    },
    {
      "cell_type": "code",
      "source": [
        "### [2pts] Write the method derive (Hint: it returns a string). Output is:\n",
        "\"\"\"\n",
        "Derivative of 1*exp(-(x**2/1)) is -2.0*exp(-(x**2/1))*x\n",
        "Derivative of 2*exp(-(x**2/4)) is -1.0*exp(-(x**2/4))*x\n",
        "Derivative of 3*exp(-(x**2/9)) is -0.6666666666666666*exp(-(x**2/9))*x\n",
        "\"\"\"\n",
        "for i in range(1,4): \n",
        "  g1=Gaussian(i,i)\n",
        "  print(\"Derivative of %s is %s\"%(g1,g1.derive()))"
      ],
      "metadata": {
        "id": "SOW38DweontS",
        "colab": {
          "base_uri": "https://localhost:8080/"
        },
        "outputId": "7fd21be7-ade8-41d1-b35a-c354b6ebbf3e"
      },
      "execution_count": 3,
      "outputs": [
        {
          "output_type": "stream",
          "name": "stdout",
          "text": [
            "Derivative of 1*exp(-(x**2/1)) is -2.0*exp(-(x**2/1))*x\n",
            "Derivative of 2*exp(-(x**2/4)) is -1.0*exp(-(x**2/4))*x\n",
            "Derivative of 3*exp(-(x**2/9)) is -0.6666666666666666*exp(-(x**2/9))*x\n"
          ]
        }
      ]
    },
    {
      "cell_type": "code",
      "source": [
        "## [4pts] Make sure that the following operation works. Hint: the division\n",
        "#    may return a Gaussian object or a string. Output examples:\n",
        "\n",
        "\"\"\"\n",
        "(2*exp(-(x**2/9)))*(3*exp(-(x**2/16)))=6*exp(-(x**2/5.76))\n",
        "(2*exp(-(x**2/9)))/(3*exp(-(x**2/16)))=0.6666666666666666*exp(-(x**2/20.571428571428573))\n",
        "(-3*exp(-(x**2/4)))*(3*exp(-(x**2/4)))=-9*exp(-(x**2/2.0000000000000004))\n",
        "(-3*exp(-(x**2/4)))/(3*exp(-(x**2/4)))=-1.0\n",
        "\"\"\"\n",
        "\n",
        "g1=Gaussian(2,-3)\n",
        "g2=Gaussian(3,4)\n",
        "print(\"(%s)*(%s)=%s\"%(g1,g2,g1*g2))\n",
        "print(\"(%s)/(%s)=%s\"%(g1,g2,g1/g2))\n",
        "g1=Gaussian(-3,2)\n",
        "g2=Gaussian(3,2)\n",
        "print(\"(%s)*(%s)=%s\"%(g1,g2,g1*g2))\n",
        "print(\"(%s)/(%s)=%s\"%(g1,g2,g1/g2))"
      ],
      "metadata": {
        "id": "kc-zEiKyxU65",
        "colab": {
          "base_uri": "https://localhost:8080/"
        },
        "outputId": "e3d52f43-8ef4-416b-f93f-f3d438368a2a"
      },
      "execution_count": 9,
      "outputs": [
        {
          "output_type": "stream",
          "name": "stdout",
          "text": [
            "(2*exp(-(x**2/9)))*(3*exp(-(x**2/16)))=6*exp(-(x**2/5.76))\n",
            "(2*exp(-(x**2/9)))/(3*exp(-(x**2/16)))=0.6666666666666666*exp(-(x**2/20.571428571428573))\n",
            "(-3*exp(-(x**2/4)))*(3*exp(-(x**2/4)))=-9*exp(-(x**2/2.0000000000000004))\n",
            "(-3*exp(-(x**2/4)))/(3*exp(-(x**2/4)))=-1.0\n"
          ]
        }
      ]
    },
    {
      "cell_type": "code",
      "source": [
        "## [2pts] rewrite your product to make sure it can handle this case. Output is:\n",
        "\"\"\"\n",
        "9*exp(-(x**2/1))\n",
        "22.5*exp(-(x**2/1))\n",
        "\"\"\"\n",
        "g1=Gaussian(3,-1)\n",
        "g2=g1*3\n",
        "print(g2)\n",
        "g3=g2*2.5\n",
        "print(g3)"
      ],
      "metadata": {
        "id": "Bu2XPrpVKOIq",
        "colab": {
          "base_uri": "https://localhost:8080/"
        },
        "outputId": "475aa855-1f18-49bf-f82b-76fcc69012fb"
      },
      "execution_count": 10,
      "outputs": [
        {
          "output_type": "stream",
          "name": "stdout",
          "text": [
            "9*exp(-(x**2/1))\n",
            "22.5*exp(-(x**2/1))\n"
          ]
        }
      ]
    },
    {
      "cell_type": "code",
      "source": [
        "## [2pts] Write the evaluate method and make a time comparison with using numpy \n",
        "#         instructions/vectorization instead (complete the numpy instruction below)\n",
        "#### Here is an output example (your time will be different)\n",
        "\"\"\"\n",
        "0.19713081968250862\n",
        "Result:  10.634723105433094\n",
        "Total time using evaluate method 0.18669867999999212 seconds\n",
        "Result:  10.634723105433096\n",
        "Total time using numpy 0.005464349999996898 seconds\n",
        "\"\"\"\n",
        "\n",
        "import time\n",
        "\n",
        "\n",
        "g1=Gaussian(3,-2)\n",
        "print(g1.evaluate(3.3))\n",
        "t1=time.process_time()\n",
        "s=0\n",
        "for x in range(-100000,100001):\n",
        "  s=s+g1.evaluate(x)  \n",
        "\n",
        "t2=time.process_time()\n",
        "\n",
        "print(\"Result: \",s)\n",
        "print(\"Total time using evaluate method\",t2-t1,\"seconds\")\n",
        "\n",
        "########### Complete this part using numpy\n",
        "########### Hint: use arange, and np.sum as well\n",
        "###########       do not use the Gaussian class   \n",
        "import numpy as np\n",
        "\n",
        "t1=time.process_time()\n",
        "\n",
        "### To complete\n",
        "\n",
        "t1=time.process_time()\n",
        "tab=np.arange(-100000,100001)\n",
        "\n",
        "l=tab**2\n",
        "f=1/(g1.b**2)\n",
        "k=np.exp(-f)\n",
        "\n",
        "a=g1.a*k\n",
        "s=np.sum(a)\n",
        "\n",
        "t2=time.process_time()\n",
        "print(\"Result: \",s)\n",
        "print(\"Total time using numpy\",t2-t1,\"seconds\")\n",
        "\n",
        "\n"
      ],
      "metadata": {
        "id": "1VUL-ODSNqOK",
        "colab": {
          "base_uri": "https://localhost:8080/"
        },
        "outputId": "11cd4805-e5bb-4446-8976-96ac0b109920"
      },
      "execution_count": 12,
      "outputs": [
        {
          "output_type": "stream",
          "name": "stdout",
          "text": [
            "0.19713081968250862\n",
            "Result:  10.634723105433094\n",
            "Total time using evaluate method 0.17678685700000063 seconds\n",
            "Result:  2.3364023492142145\n",
            "Total time using numpy 0.0030823489999995957 seconds\n"
          ]
        }
      ]
    }
  ]
}