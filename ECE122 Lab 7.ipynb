{
  "nbformat": 4,
  "nbformat_minor": 0,
  "metadata": {
    "colab": {
      "provenance": [],
      "toc_visible": true
    },
    "kernelspec": {
      "display_name": "Python 3",
      "language": "python",
      "name": "python3"
    },
    "language_info": {
      "codemirror_mode": {
        "name": "ipython",
        "version": 3
      },
      "file_extension": ".py",
      "mimetype": "text/x-python",
      "name": "python",
      "nbconvert_exporter": "python",
      "pygments_lexer": "ipython3",
      "version": "3.7.4"
    }
  },
  "cells": [
    {
      "cell_type": "markdown",
      "metadata": {
        "id": "wAPcq4ssZVzh"
      },
      "source": [
        "#  Problem 1: Write an entire class named Rectangle (do not modify the application codes)"
      ]
    },
    {
      "cell_type": "markdown",
      "metadata": {
        "id": "hbibIWbIF3Ne"
      },
      "source": [
        "### We consider the class Rectangle using the __private__ instance variables length and width \n",
        "### In order to implement and debug the entire class Rectangle (that must be written below), you will proceed step by step by considering the output of the test examples.  DO NOT DUPLICATE THE CLASS RECTANGLE, in Colab, do not forget to rerun the class at each time you make an update so the new class implementation can be seen by the test examples.\n",
        "### __Requirement:__ length cannot be smaller than 5 (if not it becomes 5), and width cannot be greater than 10 (if not it becomes 10). The \\_\\_init\\_\\_ should call the methods set_width and set_length. "
      ]
    },
    {
      "cell_type": "code",
      "metadata": {
        "id": "5XGoV1HL2cO4"
      },
      "source": [
        "class Rectangle:\n",
        "  \"\"\"Entire class vector that you will progessively complete/update as you consider the small test codes below \"\"\"\n",
        "  def __init__(self,length,width):\n",
        "    self.__length=length\n",
        "    self.__width=width\n",
        "    self.set_length(length)\n",
        "    self.set_width(width)\n",
        "  def __str__(self):\n",
        "    if self.__width>10:\n",
        "      self.__width=10\n",
        "    if self.__length<5:\n",
        "      self.__length=5\n",
        "    return \"Rectangle: 1=%s, w=%s\"%(self.__length,self.__width)\n",
        "  def set_length(self,length):\n",
        "    if length<5:\n",
        "      length=5\n",
        "    self.__length=length\n",
        "  def set_width(self,width):\n",
        "    if width>10:\n",
        "      width=10\n",
        "    self.__width=width\n",
        "  def get_length(self):\n",
        "    if self.__length<5:\n",
        "      self.__length=5\n",
        "    return self.__length\n",
        "  def get_width(self):\n",
        "    if self.__width>10:\n",
        "      self.__width=10\n",
        "    return self.__width\n",
        "  def compute_area(self):\n",
        "    area=self.get_length()*self.get_width()\n",
        "    return area\n",
        "  length=property(get_length,set_length)\n",
        "  width=property(get_width,set_width)             \n",
        "\n",
        "  \n"
      ],
      "execution_count": 1,
      "outputs": []
    },
    {
      "cell_type": "code",
      "metadata": {
        "id": "7DGEJxAmZ8I0",
        "colab": {
          "base_uri": "https://localhost:8080/"
        },
        "outputId": "dd3b6b71-7195-4f04-b46c-66787bf6b7b5"
      },
      "source": [
        "#Test1 [4pts]- Implement the set_length, set_width, __init__ and __str__ methods\n",
        "#              in the class Rectangle above, the output of this test should be:\n",
        "\"\"\"\n",
        "Rectangle: l=6, w=7\n",
        "Rectangle: l=5, w=8\n",
        "Rectangle: l=7, w=10\n",
        "Rectangle: l=5, w=10\n",
        "\"\"\"\n",
        "\n",
        "# test __init__ and __str__\n",
        "rec1=Rectangle(6,7)\n",
        "print(rec1)\n",
        "#Important Remark (at this point of the program)\n",
        "#rec1.length,rec1.width=6,7 # should return an error since variables are private\n",
        "\n",
        "# test set_x and set_y\n",
        "rec1.set_length(3)\n",
        "rec1.set_width(8)\n",
        "print(rec1)\n",
        "\n",
        "rec1.set_length(7)\n",
        "rec1.set_width(11)\n",
        "print(rec1)\n",
        "\n",
        "# test __init__ again\n",
        "print(Rectangle(2,13))"
      ],
      "execution_count": 2,
      "outputs": [
        {
          "output_type": "stream",
          "name": "stdout",
          "text": [
            "Rectangle: 1=6, w=7\n",
            "Rectangle: 1=5, w=8\n",
            "Rectangle: 1=7, w=10\n",
            "Rectangle: 1=5, w=10\n"
          ]
        }
      ]
    },
    {
      "cell_type": "code",
      "metadata": {
        "id": "l-yuwDkfZaCU",
        "colab": {
          "base_uri": "https://localhost:8080/"
        },
        "outputId": "dac85bd8-6d75-4223-e92d-4a7c2da4bc0c"
      },
      "source": [
        "#Test2: [1pt]- Implement the get_length, get_width methods in the class Rectangle\n",
        "#              above, the output of this test should be:\n",
        "\"\"\"\n",
        "Rectangle: l=6, w=6\n",
        "Rectangle: l=5, w=10\n",
        "\"\"\"\n",
        "\n",
        "rec1=Rectangle(6,6)\n",
        "print(rec1)\n",
        "rec2=Rectangle(rec1.get_length()/2,rec1.get_width()*2)\n",
        "print(rec2)\n",
        "#Important Remark (at this point of the program)\n",
        "#print(rec1.length,rec1.width)#should return an error since variables are private"
      ],
      "execution_count": 3,
      "outputs": [
        {
          "output_type": "stream",
          "name": "stdout",
          "text": [
            "Rectangle: 1=6, w=6\n",
            "Rectangle: 1=5, w=10\n"
          ]
        }
      ]
    },
    {
      "cell_type": "code",
      "metadata": {
        "id": "bJa8yAdLjvYm",
        "colab": {
          "base_uri": "https://localhost:8080/"
        },
        "outputId": "835b8fb7-0a71-4ddc-caea-35fc1941985a"
      },
      "source": [
        "#Test3: [1pt]: modify the class Rectangle such that you are able to achieve \n",
        "#     encapsulation without data abstraction. The output of this test should be:\n",
        "\"\"\"\n",
        "Rectangle: l=6, w=6\n",
        "Rectangle: l=5, w=10\n",
        "\"\"\"\n",
        "rec1=Rectangle(6,6)\n",
        "print(rec1)\n",
        "rec1.length=rec1.length/2\n",
        "rec1.width=rec1.width*2\n",
        "print(rec1)"
      ],
      "execution_count": 4,
      "outputs": [
        {
          "output_type": "stream",
          "name": "stdout",
          "text": [
            "Rectangle: 1=6, w=6\n",
            "Rectangle: 1=5, w=10\n"
          ]
        }
      ]
    },
    {
      "cell_type": "code",
      "metadata": {
        "id": "uj_bzwKo51Vh",
        "colab": {
          "base_uri": "https://localhost:8080/"
        },
        "outputId": "fe46ba54-e5b9-4573-fcbb-f92ae74e6037"
      },
      "source": [
        "#Test4 [1pt]: Write the method compute_area in the class Rectangle \n",
        "#             The output of this test should be:\n",
        "\"\"\"\n",
        "Rectangle: l=6, w=6 area is 36\n",
        "Rectangle: l=5, w=4 area is 20\n",
        "Rectangle: l=11, w=10 area is 110\n",
        "\"\"\"\n",
        "\n",
        "rec1=Rectangle(6,6)\n",
        "print(rec1,\"area is\",rec1.compute_area())\n",
        "\n",
        "rec2=Rectangle(4,4)\n",
        "print(rec2,\"area is\",rec2.compute_area())\n",
        "\n",
        "rec3=Rectangle(11,11)\n",
        "print(rec3,\"area is\",rec3.compute_area())"
      ],
      "execution_count": 5,
      "outputs": [
        {
          "output_type": "stream",
          "name": "stdout",
          "text": [
            "Rectangle: 1=6, w=6 area is 36\n",
            "Rectangle: 1=5, w=4 area is 20\n",
            "Rectangle: 1=11, w=10 area is 110\n"
          ]
        }
      ]
    },
    {
      "cell_type": "markdown",
      "source": [
        "# Problem 2: Implement the class Box that inherits from the class Rectangle above"
      ],
      "metadata": {
        "id": "ncAOUcjo9qyZ"
      }
    },
    {
      "cell_type": "markdown",
      "source": [
        "###  use the additional private attribute height (__height__ cannot be smaller than 4, and it cannot be greater than 9, otherwise it becomes 4 or 9 respectively).\n",
        "### Proceed step by step by considering the output of the test example below that you can progressivley comment/uncomment and test. \n",
        "### __Requirement__: the methods \\_\\_init\\_\\_ and \\_\\_str\\_\\_ and compute\\_volume methods must use the __super__ operator (compute\\_volume  the parent compute\\_area method). The \\_\\_init\\_\\_ should use the method set_height. "
      ],
      "metadata": {
        "id": "3Av3r5dBk_2r"
      }
    },
    {
      "cell_type": "code",
      "source": [
        "class Box(Rectangle):\n",
        "  def __init__(self,length,width,height):\n",
        "    self.set_height(height)\n",
        "    super().set_length(length)\n",
        "    super().set_width(width)\n",
        "\n",
        "  def __str__(self):\n",
        "    if self.__height<9:\n",
        "      self.__height=9\n",
        "    elif self.__height<4:\n",
        "      self.__height=4\n",
        "    return super().__str__()+\", h=%s\"%(self.__height)\n",
        "\n",
        "  def get_height(self):\n",
        "    if self.__height>9:\n",
        "      self.__height=9\n",
        "    elif self.__height<4:\n",
        "      self.__height=4\n",
        "    return self.__height\n",
        "\n",
        "  def set_height(self,height):\n",
        "    if height>9:\n",
        "      height=9\n",
        "    elif height<4:\n",
        "      height=4\n",
        "    self.__height=height\n",
        "\n",
        "  def compute_volume(self):\n",
        "     volume=(super().get_length())*(super().get_width())*(self.get_height())\n",
        "     return volume\n",
        "\n",
        "  height=property(get_height,set_height)        \n",
        "\n",
        "\n"
      ],
      "metadata": {
        "id": "XIMgrAjOhghs"
      },
      "execution_count": 6,
      "outputs": []
    },
    {
      "cell_type": "code",
      "source": [
        "#[5pts] Consider the examples below that you can progressively comment/uncomment\n",
        "#       for testing your Box class: Here is the output:\n",
        "\"\"\"\n",
        "Rectangle: l=6, w=6, h=6\n",
        "6 6 6\n",
        "Rectangle: l=5, w=10, h=4\n",
        "Rectangle: l=6, w=6, h=9\n",
        "Rectangle: l=5, w=10, h=9 volume is 450\n",
        "\"\"\"\n",
        "\n",
        "# test __init__, and __get__\n",
        "b1=Box(6,6,6)\n",
        "print(b1)\n",
        "print(b1.get_length(),b1.get_width(),b1.get_height())\n",
        "\n",
        "# test __set__\n",
        "b1.set_length(1)\n",
        "b1.set_width(12)\n",
        "b1.set_height(3)\n",
        "print(b1)\n",
        "b1=Box(6,6,10)\n",
        "print(b1)\n",
        "\n",
        "#test encapulsation (property) and volume\n",
        "b1=Box(6,6,6)\n",
        "b1.length=b1.length/2\n",
        "b1.width=b1.width*2\n",
        "b1.height=b1.height*2\n",
        "print(b1,\"volume is\",b1.compute_volume())"
      ],
      "metadata": {
        "id": "F5-Ewj0JjbFm",
        "colab": {
          "base_uri": "https://localhost:8080/"
        },
        "outputId": "b28c2184-0b46-48d6-d3ac-cb2b95e96e0d"
      },
      "execution_count": 7,
      "outputs": [
        {
          "output_type": "stream",
          "name": "stdout",
          "text": [
            "Rectangle: 1=6, w=6, h=9\n",
            "6 6 9\n",
            "Rectangle: 1=5, w=10, h=9\n",
            "Rectangle: 1=6, w=6, h=9\n",
            "Rectangle: 1=5, w=10, h=9 volume is 450\n"
          ]
        }
      ]
    }
  ]
}