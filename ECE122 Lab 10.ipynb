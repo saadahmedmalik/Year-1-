{
  "nbformat": 4,
  "nbformat_minor": 0,
  "metadata": {
    "colab": {
      "provenance": [],
      "toc_visible": true
    },
    "kernelspec": {
      "display_name": "Python 3",
      "language": "python",
      "name": "python3"
    },
    "language_info": {
      "codemirror_mode": {
        "name": "ipython",
        "version": 3
      },
      "file_extension": ".py",
      "mimetype": "text/x-python",
      "name": "python",
      "nbconvert_exporter": "python",
      "pygments_lexer": "ipython3",
      "version": "3.7.4"
    }
  },
  "cells": [
    {
      "cell_type": "markdown",
      "metadata": {
        "id": "wAPcq4ssZVzh"
      },
      "source": [
        "# Part-I- Python native data-structure: tuples, dictionary and sets "
      ]
    },
    {
      "cell_type": "code",
      "metadata": {
        "id": "7r-iIZLSFQDo",
        "colab": {
          "base_uri": "https://localhost:8080/"
        },
        "outputId": "4b31fc4a-cc40-48a9-cf35-8439659b5f28"
      },
      "source": [
        "##[1pt] Complete the program (provide the function). The output should be:\n",
        "\"\"\"\n",
        "x+y=8; x-y=4; x*y=12; x/y=3.0\n",
        "x+y=8; x-y=4; x*y=12; x/y=3.0\n",
        "\"\"\"\n",
        "def operate(x,y):\n",
        "  tup1=(x+y,x-y,x*y,x/y)\n",
        "  return tup1\n",
        "\n",
        "\n",
        "# main program (do not change)\n",
        "xpy,xmy,xty,xdy=operate(6,2)\n",
        "print(\"x+y=%s; x-y=%s; x*y=%s; x/y=%s\"%(xpy,xmy,xty,xdy))\n",
        "print(\"x+y=%s; x-y=%s; x*y=%s; x/y=%s\"%operate(6,2))"
      ],
      "execution_count": null,
      "outputs": [
        {
          "output_type": "stream",
          "name": "stdout",
          "text": [
            "x+y=8; x-y=4; x*y=12; x/y=3.0\n",
            "x+y=8; x-y=4; x*y=12; x/y=3.0\n"
          ]
        }
      ]
    },
    {
      "cell_type": "code",
      "metadata": {
        "id": "DhjF3f6m6wtu",
        "colab": {
          "base_uri": "https://localhost:8080/"
        },
        "outputId": "923770ed-59b5-4738-c211-0105fb0533e0"
      },
      "source": [
        "##[1pt] Complete the program (provide the function). The output should be:\n",
        "\"\"\"\n",
        "The four bases of DNA are C G A T\n",
        "The four bases of DNA are ('C', 'G', 'A', 'T')\n",
        "\"\"\"\n",
        "def dna_base():\n",
        "  tup1=(\"C\",\"G\",\"A\",\"T\")\n",
        "  return tup1\n",
        "\n",
        "\n",
        "\n",
        "# main program (do not change)\n",
        "c,g,a,t=dna_base()\n",
        "print(\"The four bases of DNA are\",c,g,a,t)\n",
        "print(\"The four bases of DNA are\",dna_base())"
      ],
      "execution_count": null,
      "outputs": [
        {
          "output_type": "stream",
          "name": "stdout",
          "text": [
            "The four bases of DNA are C G A T\n",
            "The four bases of DNA are ('C', 'G', 'A', 'T')\n"
          ]
        }
      ]
    },
    {
      "cell_type": "code",
      "metadata": {
        "id": "l-yuwDkfZaCU",
        "colab": {
          "base_uri": "https://localhost:8080/"
        },
        "outputId": "feb6f3d5-3bd0-4361-c609-55ba9acf3d2f"
      },
      "source": [
        "##[1pt] Complete the program that gives the output\n",
        "\"\"\"\n",
        "2 A1 3 B1 1 C3 \n",
        "\"\"\"\n",
        "\n",
        "a={\"2\":\"A1\",\"3\":\"B1\",\"1\":\"C3\"}# to complete\n",
        "for k,v in a.items():\n",
        "  print(k,v,end=\" \")"
      ],
      "execution_count": null,
      "outputs": [
        {
          "output_type": "stream",
          "name": "stdout",
          "text": [
            "2 A1 3 B1 1 C3 "
          ]
        }
      ]
    },
    {
      "cell_type": "code",
      "metadata": {
        "id": "bJa8yAdLjvYm",
        "colab": {
          "base_uri": "https://localhost:8080/"
        },
        "outputId": "6fe0f68f-d8c3-4aa1-a409-967386beaa32"
      },
      "source": [
        "##[2pts] Let us roll two dices 10000 times, complete the program and return\n",
        "# the dictionary that represents a counter of occurences. This is the output:\n",
        "\"\"\"\n",
        "{5: 1586, 6: 2011, 4: 1202, 7: 1609, 9: 849, 3: 750, 8: 1203, 10: 403, 2: 387}\n",
        "\"\"\"\n",
        "\n",
        "import numpy as np\n",
        "\n",
        "np.random.seed(4)\n",
        "trials=10000\n",
        "dice1=np.random.randint(1,6,trials)\n",
        "dice2=np.random.randint(1,6,trials)\n",
        "\n",
        "counter={}\n",
        "         \n",
        "\n",
        "## to complete\n",
        "dice3=dice1+dice2\n",
        "unique, numbers1=np.unique(dice3, return_counts=True)\n",
        "x1=dict(zip(unique,numbers1))\n",
        "counter=x1\n",
        "\n",
        "\n",
        "\n",
        "print(counter)"
      ],
      "execution_count": 1,
      "outputs": [
        {
          "output_type": "stream",
          "name": "stdout",
          "text": [
            "{2: 387, 3: 750, 4: 1202, 5: 1586, 6: 2011, 7: 1609, 8: 1203, 9: 849, 10: 403}\n"
          ]
        }
      ]
    },
    {
      "cell_type": "code",
      "metadata": {
        "id": "uj_bzwKo51Vh",
        "colab": {
          "base_uri": "https://localhost:8080/"
        },
        "outputId": "56fee434-c3ca-47c0-bed5-fda9621a82cf"
      },
      "source": [
        "##[1pt]: complete the following program that gives the corresponding output\n",
        "#For the union, the order of the elements in the result does not matter, \n",
        "#any order is fine as long as they are all present.\n",
        "\"\"\"\n",
        "{'1', 'm', 'u', 'a', 's', '2'}\n",
        "{'s'}\n",
        "\"\"\"\n",
        "\n",
        "a={\"u\",\"m\",\"a\",\"s\"}\n",
        "b={\"1\",\"s\",\"2\"}  # to complete\n",
        "print(a|b) # union\n",
        "print(a&b) # intersection"
      ],
      "execution_count": null,
      "outputs": [
        {
          "output_type": "stream",
          "name": "stdout",
          "text": [
            "{'m', '2', 'a', '1', 's', 'u'}\n",
            "{'s'}\n"
          ]
        }
      ]
    },
    {
      "cell_type": "markdown",
      "metadata": {
        "id": "lbNRQx4QObB1"
      },
      "source": [
        "# Part-II Sorted-List and Binary Search"
      ]
    },
    {
      "cell_type": "code",
      "metadata": {
        "id": "_36p2btbOevM",
        "colab": {
          "base_uri": "https://localhost:8080/"
        },
        "outputId": "1ad431c9-28b3-463d-c8a6-2ece90448c65"
      },
      "source": [
        "#### Class to complete step by step (and keep re-running to update)\n",
        "import urllib.request,random\n",
        "\n",
        "class MyDictionary:\n",
        "\n",
        "  def __init__(self,link):\n",
        "    dictionary=urllib.request.urlopen(link).read().decode(\"utf-8\") # load full dictionary file as string\n",
        "    self.words=dictionary.split(\"\\n\")   # create list of words\n",
        "\n",
        "  def get_size(self):\n",
        "    return len(self.words)\n",
        "\n",
        "  def linear_search(self,word):\n",
        "    if word in self.words:\n",
        "      return True, (self.words.index(word))+1\n",
        "    else:\n",
        "      return False, len(self.words)\n",
        "\n",
        "  def binary_search(self,word):\n",
        "    lower=0\n",
        "    upper=len(self.words)-1\n",
        "    steps=0\n",
        "    while lower<=upper:\n",
        "      mid=lower+((upper-lower)//2)\n",
        "      if self.words[mid]==word:\n",
        "        steps=steps+1\n",
        "        return True, steps\n",
        "\n",
        "      elif self.words[mid]<word:\n",
        "        lower=mid+1\n",
        "        steps=steps+1\n",
        "      elif self.words[mid]>word:\n",
        "        upper=mid-1\n",
        "        steps=steps+1\n",
        "    return False, steps            \n",
        "\n",
        "\n",
        "\n",
        "\n",
        "\n",
        "   \n",
        "\n",
        "\n",
        "### Main program (do not change)   \n",
        "#we are going to load an english dictionary which is lexicographically sorted\n",
        "# Output is:\n",
        "\"\"\"\n",
        "Dictionary created of length 99172\n",
        "\"\"\"\n",
        "\n",
        "### Main\n",
        "english=MyDictionary(\"https://people.umass.edu/polizzi/english_sorted.txt\")  # instantiate\n",
        "print(\"Dictionary created of length\",english.get_size())\n"
      ],
      "execution_count": 2,
      "outputs": [
        {
          "output_type": "stream",
          "name": "stdout",
          "text": [
            "Dictionary created of length 99172\n"
          ]
        }
      ]
    },
    {
      "cell_type": "code",
      "source": [
        "#[2pts] Write the method linear_search that will scan the item from left to right and\n",
        "#      return two values (tuple): a boolean (True if the word was found), and a int (number of steps the search takes)\n",
        "#Some Examples:\n",
        "\"\"\"\n",
        "Enter a word to search: \n",
        "Is 'engineering' found? True, using 40639 steps\n",
        "\n",
        "Enter a word to search: project\n",
        "Is 'project' found? True, using 72875 steps\n",
        "\n",
        "Enter a word to search: studant\n",
        "Is 'studant' found? False, using 99172 steps\n",
        "\"\"\"\n",
        "\n",
        "\n",
        "# do not change program below\n",
        "word=input(\"Enter a word to search: \")\n",
        "if word==\"\": word=\"engineering\" # default if user just press enter\n",
        "\n",
        "is_found,steps=english.linear_search(word)\n",
        "print(\"Is '%s' found? %s, using %s steps\"%(word,is_found,steps))"
      ],
      "metadata": {
        "id": "Z5OekYJqLonG",
        "colab": {
          "base_uri": "https://localhost:8080/"
        },
        "outputId": "fd377904-593a-497c-e21a-4c991bfb8254"
      },
      "execution_count": 3,
      "outputs": [
        {
          "output_type": "stream",
          "name": "stdout",
          "text": [
            "Enter a word to search: \n",
            "Is 'engineering' found? True, using 40639 steps\n"
          ]
        }
      ]
    },
    {
      "cell_type": "code",
      "source": [
        "#[2pts] Write the method binary_search that will search a word in the dictionary and\n",
        "#      return two values (tuple): a boolean (True if the word was found), and a int (number of steps the search takes)\n",
        "#Some Examples:\n",
        "\"\"\"\n",
        "Enter a word to search: \n",
        "Is 'engineering' found? True, using 16 steps\n",
        "\n",
        "Enter a word to search: code\n",
        "Is 'code' found? True, using 14 steps\n",
        "\n",
        "Enter a word to search: studant\n",
        "Is 'studant' found? False, using 17 steps\n",
        "\"\"\"\n",
        "\n",
        "# do not change program below\n",
        "word=input(\"Enter a word to search: \")\n",
        "if word==\"\": word=\"engineering\" # default if user just press enter\n",
        "\n",
        "is_found,steps=english.binary_search(word)\n",
        "print(\"Is '%s' found? %s, using %s steps\"%(word,is_found,steps))"
      ],
      "metadata": {
        "id": "iuboEmNO7z6f",
        "colab": {
          "base_uri": "https://localhost:8080/"
        },
        "outputId": "e88b9ecf-f356-4c33-e412-246b55e35dd9"
      },
      "execution_count": 4,
      "outputs": [
        {
          "output_type": "stream",
          "name": "stdout",
          "text": [
            "Enter a word to search: \n",
            "Is 'engineering' found? True, using 16 steps\n"
          ]
        }
      ]
    },
    {
      "cell_type": "markdown",
      "source": [
        "# Part-III- Recursion"
      ],
      "metadata": {
        "id": "DiILuMj8lVW3"
      }
    },
    {
      "cell_type": "code",
      "source": [
        "#[2pts] Padovan sequence...see Definition in https://en.wikipedia.org/wiki/Padovan_sequence\n",
        "#       write the recursive function- output should be: \n",
        "\"\"\"\n",
        "1 1 1 2 2 3 4 5 7 9 12 16 21 28 37 49 65 86 114 151 200 265\n",
        "\"\"\"\n",
        "\n",
        "def recPadovan(n):\n",
        "  if n<=2:\n",
        "    return 1\n",
        "  else:\n",
        "    return recPadovan(n-2)+recPadovan(n-3) \n",
        "\n",
        "\n",
        "\n",
        "\n",
        "### Main program\n",
        "for i in range(22):\n",
        "  print(recPadovan(i),end=\" \")"
      ],
      "metadata": {
        "id": "GERjw_0ao3tq",
        "colab": {
          "base_uri": "https://localhost:8080/"
        },
        "outputId": "c6406315-049a-464d-959f-b583160dac55"
      },
      "execution_count": null,
      "outputs": [
        {
          "output_type": "stream",
          "name": "stdout",
          "text": [
            "1 1 1 2 2 3 4 5 7 9 12 16 21 28 37 49 65 86 114 151 200 265 "
          ]
        }
      ]
    }
  ]
}