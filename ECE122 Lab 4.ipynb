{
  "nbformat": 4,
  "nbformat_minor": 0,
  "metadata": {
    "colab": {
      "provenance": [],
      "toc_visible": true
    },
    "kernelspec": {
      "display_name": "Python 3",
      "language": "python",
      "name": "python3"
    },
    "language_info": {
      "codemirror_mode": {
        "name": "ipython",
        "version": 3
      },
      "file_extension": ".py",
      "mimetype": "text/x-python",
      "name": "python",
      "nbconvert_exporter": "python",
      "pygments_lexer": "ipython3",
      "version": "3.7.4"
    }
  },
  "cells": [
    {
      "cell_type": "markdown",
      "metadata": {
        "id": "wAPcq4ssZVzh"
      },
      "source": [
        "# Customized types"
      ]
    },
    {
      "cell_type": "code",
      "metadata": {
        "id": "5XGoV1HL2cO4",
        "colab": {
          "base_uri": "https://localhost:8080/"
        },
        "outputId": "4aa13ccf-a38b-4a88-fe62-05bb296095d8"
      },
      "source": [
        "#Q1[2pts]: Write the class Car. The code should display:\n",
        "\"\"\"\n",
        "Honda 2015\n",
        "Toyota 2018\n",
        "\"\"\" \n",
        "## Provide class here\n",
        "class Car:\n",
        "  def __init__(self,make,year):\n",
        "    self.make=make\n",
        "    self.year=year\n",
        "\n",
        "## Main program\n",
        "cars=[Car(\"Honda\",2015), Car(\"Toyota\",2018)]\n",
        "for car in cars:\n",
        "  print(car.make,car.year)"
      ],
      "execution_count": null,
      "outputs": [
        {
          "output_type": "stream",
          "name": "stdout",
          "text": [
            "Honda 2015\n",
            "Toyota 2018\n"
          ]
        }
      ]
    },
    {
      "cell_type": "code",
      "metadata": {
        "id": "7DGEJxAmZ8I0",
        "colab": {
          "base_uri": "https://localhost:8080/"
        },
        "outputId": "303c6f0d-6ce3-485e-c62d-58ee9afbecaf"
      },
      "source": [
        "#Q2[1pt]: Follow up question. Actually the second car was not a Toyota but a Ford,\n",
        "#          add one line of code to get the following (do not modify the existing code):\n",
        "\"\"\"\n",
        "Honda 2015\n",
        "Ford 2018\n",
        "\"\"\"\n",
        "\n",
        "cars=[Car(\"Honda\",2015), Car(\"Toyota\",2018)]\n",
        "\n",
        "## Add one line of code here\n",
        "cars[1].make=\"Ford\"\n",
        "\n",
        "for car in cars:\n",
        "  print(car.make,car.year)"
      ],
      "execution_count": null,
      "outputs": [
        {
          "output_type": "stream",
          "name": "stdout",
          "text": [
            "Honda 2015\n",
            "Ford 2018\n"
          ]
        }
      ]
    },
    {
      "cell_type": "code",
      "metadata": {
        "id": "l-yuwDkfZaCU",
        "colab": {
          "base_uri": "https://localhost:8080/"
        },
        "outputId": "4c0470cc-41fc-4980-ec88-8def4f454430"
      },
      "source": [
        "#Q3[1pt]: How would you modify the class Car to make sure that this program executes\n",
        "#     (rewrite the class Car):\n",
        "\"\"\"\n",
        "Ferrari 1984\n",
        "\"\"\"\n",
        "\n",
        "## Provide class here\n",
        "class Car:\n",
        "  def __init__(self, make=\"Ferrari\",year=1984):\n",
        "    self.make=make\n",
        "    self.year=year\n",
        "\n",
        "\n",
        "# Main program (do not change code below)\n",
        "car=Car()\n",
        "print(car.make,car.year)"
      ],
      "execution_count": null,
      "outputs": [
        {
          "output_type": "stream",
          "name": "stdout",
          "text": [
            "Ferrari 1984\n"
          ]
        }
      ]
    },
    {
      "cell_type": "code",
      "metadata": {
        "id": "bJa8yAdLjvYm",
        "colab": {
          "base_uri": "https://localhost:8080/"
        },
        "outputId": "8e487723-a865-498a-a7f7-c76a92a9607c"
      },
      "source": [
        "#Q4[1pt]: write the function car2str. The program should display:\n",
        "\"\"\"\n",
        "My car is a Buick from 2018\n",
        "My car is a Toyota from 2020\n",
        "\"\"\"\n",
        "# Function here\n",
        "def car2str(a):\n",
        "  return(\"My car is %s from %s\"%(a.make,a.year))\n",
        "\n",
        "# Main program\n",
        "car=Car(\"Buick\",2018)\n",
        "print(car2str(car))\n",
        "car=Car(\"Toyota\",2020)\n",
        "print(car2str(car))"
      ],
      "execution_count": null,
      "outputs": [
        {
          "output_type": "stream",
          "name": "stdout",
          "text": [
            "My car is Buick from 2018\n",
            "My car is Toyota from 2020\n"
          ]
        }
      ]
    },
    {
      "cell_type": "code",
      "metadata": {
        "id": "9q3_klo8lefV",
        "colab": {
          "base_uri": "https://localhost:8080/"
        },
        "outputId": "ae82bf70-9eab-4797-b2b3-7c2e25b241a3"
      },
      "source": [
        "#Q5[2pts]: Modify the class Car (add one more attribute) \n",
        "#          and function car2str to obtain (provide both below):\n",
        "\n",
        "\"\"\"\n",
        "My car is a Buick Enclave from 2018\n",
        "\"\"\"\n",
        "\n",
        "## Provide class here\n",
        "class Car:\n",
        "  def __init__(self,name,model,year):\n",
        "    self.name=name\n",
        "    self.model=model\n",
        "    self.year=year\n",
        "\n",
        "## Function here\n",
        "def car2str(a):\n",
        "  return(\"My car is a %s %s from %s\"%(a.name,a.model,a.year))\n",
        "\n",
        "## Main program\n",
        "car=Car(\"Buick\",\"Enclave\",2018)\n",
        "print(car2str(car))"
      ],
      "execution_count": null,
      "outputs": [
        {
          "output_type": "stream",
          "name": "stdout",
          "text": [
            "My car is a Buick Enclave from 2018\n"
          ]
        }
      ]
    },
    {
      "cell_type": "markdown",
      "metadata": {
        "id": "pTH1Hy0XItdH"
      },
      "source": [
        "# Application: Polynomials\n",
        "### Polynomial of degree d\n",
        "### $p(x)=c_0+c_1x+c_2x^{2}+\\dots+c_{d-1}x^{d-1}+c_{d}x^d$"
      ]
    },
    {
      "cell_type": "code",
      "metadata": {
        "id": "mFKSX8WITqSp",
        "colab": {
          "base_uri": "https://localhost:8080/"
        },
        "outputId": "0399e364-8353-464c-ff53-4e5657edfce2"
      },
      "source": [
        "#Q6 [3pts]: Write the class Polynomial that uses two attributes:\n",
        "#          a list of float to store the coefs and the integer \"degree\". \n",
        "#          Hint: only one argument (in addition to self) is needed for the init constructor. \n",
        "#\n",
        "#          Output should be:\n",
        "\"\"\"\n",
        "[0.0] is of degree 0\n",
        "[1.0] is of degree 0\n",
        "[-2.0, 2.0, 1.0] is of degree 2\n",
        "[2.0, 1.0] is of degree 1\n",
        "\"\"\"\n",
        "\n",
        "## Provide Class here\n",
        "class Polynomial:\n",
        "  def __init__(self, coefficient=[0.0], degree=0):\n",
        "    self.coefs=coefficient\n",
        "    self.degree=degree\n",
        "\n",
        "\n",
        "## Main program (do not change)\n",
        "p0=Polynomial()\n",
        "p1=Polynomial([1.0])\n",
        "p2=Polynomial([-2.0,2.0,1.0])\n",
        "p3=Polynomial([2.0,1.0])\n",
        "\n",
        "list_poly=[p0,p1,p2,p3]\n",
        "for p in list_poly:\n",
        "  print(p.coefs,\"is of degree\",p.degree)"
      ],
      "execution_count": null,
      "outputs": [
        {
          "output_type": "stream",
          "name": "stdout",
          "text": [
            "[0.0] is of degree 0\n",
            "[1.0] is of degree 0\n",
            "[-2.0, 2.0, 1.0] is of degree 0\n",
            "[2.0, 1.0] is of degree 0\n"
          ]
        }
      ]
    },
    {
      "cell_type": "code",
      "metadata": {
        "id": "Vteztps0vLQB"
      },
      "source": [
        "#Q7[2pts]: Follow up (using the class and list_poly you defined above). \n",
        "#          Write a function that will display the discriminant\n",
        "#          if the polynomial is of degree 2. Output should be:\n",
        "\n",
        "\"\"\"\n",
        "[-2.0, 2.0, 1.0] gives d= 12.0\n",
        "\"\"\"\n",
        "\n",
        "## Function here\n",
        "def display(a):\n",
        "  if a.degree==2:\n",
        "   \n",
        "    print(a.coefs,\"gives d=\",((a.coefs[1]**2)-(4*a.coefs[0]*a.coefs[2])))\n",
        "    \n",
        "\n",
        "\n",
        "## Main program\n",
        "for p in list_poly:\n",
        "  display(p)"
      ],
      "execution_count": null,
      "outputs": []
    }
  ]
}