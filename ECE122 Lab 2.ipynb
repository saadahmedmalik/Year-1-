{
  "nbformat": 4,
  "nbformat_minor": 0,
  "metadata": {
    "colab": {
      "provenance": [],
      "toc_visible": true
    },
    "kernelspec": {
      "display_name": "Python 3",
      "language": "python",
      "name": "python3"
    },
    "language_info": {
      "codemirror_mode": {
        "name": "ipython",
        "version": 3
      },
      "file_extension": ".py",
      "mimetype": "text/x-python",
      "name": "python",
      "nbconvert_exporter": "python",
      "pygments_lexer": "ipython3",
      "version": "3.7.4"
    }
  },
  "cells": [
    {
      "cell_type": "markdown",
      "metadata": {
        "id": "wAPcq4ssZVzh"
      },
      "source": [
        "# Functions, Conditional Statements and Modules"
      ]
    },
    {
      "cell_type": "code",
      "metadata": {
        "id": "5XGoV1HL2cO4",
        "colab": {
          "base_uri": "https://localhost:8080/"
        },
        "outputId": "01202cc9-5804-444b-cc0b-56540a5ea0c8"
      },
      "source": [
        "#Q1[1pt]: Complete this program to obtain the corresponding output (add function product)\n",
        "\"\"\"\n",
        "3.0*6.0=18.0\n",
        "5.0*-7.0=-35.0\n",
        "\"\"\"\n",
        "\n",
        "# Functions\n",
        "def product(x,y): \n",
        "  return x*y     \n",
        "\n",
        "# Main program\n",
        "f1,f2=3.0,6.0\n",
        "print(\"%s*%s=%s\"%(f1,f2,product(f1,f2)))\n",
        "f3,f4=5.0,-7.0\n",
        "print(\"%s*%s=%s\"%(f3,f4,product(f3,f4)))"
      ],
      "execution_count": null,
      "outputs": [
        {
          "output_type": "stream",
          "name": "stdout",
          "text": [
            "3.0*6.0=18.0\n",
            "5.0*-7.0=-35.0\n"
          ]
        }
      ]
    },
    {
      "cell_type": "code",
      "metadata": {
        "id": "7DGEJxAmZ8I0",
        "colab": {
          "base_uri": "https://localhost:8080/"
        },
        "outputId": "81ebaa4f-383c-4d68-a68d-0eef0751cf26"
      },
      "source": [
        "#Q2[2pts]: Complete the programs to obtain the corresponding outputs \n",
        "#    (Do not use any if conditions)\n",
        "\n",
        "\"\"\"\n",
        "Neighbors of 5 are: 4,6\n",
        "Neighbors of 6 are: 5,7\n",
        "\"\"\"\n",
        "\n",
        "#functions\n",
        "def fprev(a):\n",
        "  return a-1\n",
        "def fnext(a):\n",
        "  return a+1  \n",
        "\n",
        "# Main program\n",
        "a=5\n",
        "print(\"Neighbors of %s are: %s,%s\"%(a,fprev(a),fnext(a)))\n",
        "a=6\n",
        "print(\"Neighbors of %s are: %s,%s\"%(a,fprev(a),fnext(a)))"
      ],
      "execution_count": null,
      "outputs": [
        {
          "output_type": "stream",
          "name": "stdout",
          "text": [
            "Neighbors of 5 are: 4,6\n",
            "Neighbors of 6 are: 5,7\n"
          ]
        }
      ]
    },
    {
      "cell_type": "code",
      "source": [
        "#Q3[2pts]: Complete the programs to obtain the corresponding outputs::\n",
        "#    Hint: Write the function neigh\n",
        "#          Use: if conditions, 1 optional argument with default value\n",
        "\n",
        "\"\"\"\n",
        "Neighbors of 5 are: 4,6\n",
        "Neighbors of 6 are: 5,7\n",
        "\"\"\"\n",
        "\n",
        "#functions       \n",
        "def neigh(a,b=a):\n",
        "  if b==\"prev\":\n",
        "    return a-1\n",
        "  elif b==\"next\":\n",
        "    return a+1\n",
        "  else:\n",
        "    return a      \n",
        "    \n",
        "\n",
        "\n",
        "# Main program \n",
        "a=5\n",
        "print(\"Neighbors of %s are: %s,%s\"%(neigh(a),neigh(a,\"prev\"),neigh(a,\"next\")))\n",
        "a=6\n",
        "print(\"Neighbors of %s are: %s,%s\"%(neigh(a),neigh(a,\"prev\"),neigh(a,\"next\")))"
      ],
      "metadata": {
        "id": "MoeYG92nweey",
        "colab": {
          "base_uri": "https://localhost:8080/"
        },
        "outputId": "bdf3af28-0a8b-4b4f-a0a0-0683052c001c"
      },
      "execution_count": null,
      "outputs": [
        {
          "output_type": "stream",
          "name": "stdout",
          "text": [
            "Neighbors of 5 are: 4,6\n",
            "Neighbors of 6 are: 5,7\n"
          ]
        }
      ]
    },
    {
      "cell_type": "code",
      "metadata": {
        "id": "mFKSX8WITqSp",
        "colab": {
          "base_uri": "https://localhost:8080/"
        },
        "outputId": "feb27372-9b2f-4c6d-b6d7-c40411763ce3"
      },
      "source": [
        "# Q4[2pts]: Complete the program below. Use a conditional statement that will display \n",
        "#     'Nice pick' if the area of the circle is greater or equal to 10.0 but\n",
        "#      it must also be stricly smaller than 30.0. Otherwise it will display 'Bad pick'.\n",
        "#      You should use the pi constant in the module math and define the variable \n",
        "#      'area' for the area.\n",
        "#      Example of executions to test your program:\n",
        "\"\"\"\n",
        "Choose radius: 1\n",
        "Bad pick\n",
        "\n",
        "Choose radius: 2\n",
        "Nice pick\n",
        "\n",
        "Choose radius: 4\n",
        "Bad pick\n",
        "\"\"\"\n",
        "import math\n",
        "r=float(input(\"Choose radius: \"))\n",
        "area=math.pi*r**2\n",
        "if area>=10.0 and area<=30.0:\n",
        "  print(\"Nice Pick\")\n",
        "else:\n",
        "  print(\"Bad Pick\")"
      ],
      "execution_count": null,
      "outputs": [
        {
          "output_type": "stream",
          "name": "stdout",
          "text": [
            "Choose radius: 2\n",
            "Nice Pick\n"
          ]
        }
      ]
    },
    {
      "cell_type": "code",
      "metadata": {
        "id": "0X-5jygnUUeQ",
        "colab": {
          "base_uri": "https://localhost:8080/"
        },
        "outputId": "fd569756-40aa-4a93-af2d-4d76f9582524"
      },
      "source": [
        "#Q5[1pt]: Follow-up question, if you chose a 'bad pick' then the program\n",
        "#         should test if the radius is too high or too low\n",
        "#         Hint:You first need to cc-paste the program above and complete it here.\n",
        "#         Example of execution to test your program:\n",
        "\"\"\"\n",
        "Choose radius: 1\n",
        "Bad pick\n",
        "radius too low\n",
        "\n",
        "Choose radius: 4\n",
        "Bad pick\n",
        "radius too high\n",
        "\"\"\"\n",
        "import math\n",
        "r=float(input(\"Choose radius: \"))\n",
        "area=math.pi*r**2\n",
        "if area>=10.0 and area<=30.0:\n",
        "  print(\"Nice Pick\")\n",
        "else:\n",
        "  print(\"Bad Pick\")\n",
        "if area<10.0:\n",
        "  print(\"radius too low\")\n",
        "elif area>30.0:\n",
        "  print(\"radis too high\")     "
      ],
      "execution_count": null,
      "outputs": [
        {
          "output_type": "stream",
          "name": "stdout",
          "text": [
            "Choose radius: 3\n",
            "Nice Pick\n"
          ]
        }
      ]
    },
    {
      "cell_type": "code",
      "metadata": {
        "id": "6YNTMpvrXOIr",
        "colab": {
          "base_uri": "https://localhost:8080/"
        },
        "outputId": "91f484f7-46fc-4033-b7a2-8ed8853d8cf6"
      },
      "source": [
        "#Q6[1pt]: Let us suppose that the user chooses the int value for the variable n,\n",
        "#    write a single conditional statement that will display 'Great choice' \n",
        "#    only if n is even and positive, or if it is odd and negative.\n",
        "\n",
        "n=int(input(\"Choose n: \"))\n",
        "if (n>0 and n%2==0) or (n<0 and n%2!=0):\n",
        "  print(\"Great Choice\")\n",
        "              "
      ],
      "execution_count": null,
      "outputs": [
        {
          "output_type": "stream",
          "name": "stdout",
          "text": [
            "Choose n: 2\n",
            "Great Choice\n"
          ]
        }
      ]
    },
    {
      "cell_type": "code",
      "source": [
        "#Q7[1pt]: Using the module math, compute the following expression: \n",
        "#             sqrt(sin((pi**2)/3)**2+cos((pi**2)/3)**2)\n",
        "#             and display its result\n",
        "#             Hint:you can use variables to store intermediate results if you wish\n",
        "\n",
        "# to complete\n",
        "\n",
        "import math as m\n",
        "output=m.sqrt(m.sin((m.pi**2)/3)**2+m.cos((m.pi**2)/3)**2)\n",
        "\n",
        "\n",
        "print(\"result is\",output)"
      ],
      "metadata": {
        "id": "RToMU359Nvb4",
        "colab": {
          "base_uri": "https://localhost:8080/"
        },
        "outputId": "c2fc3ec1-aea3-4af3-f22c-2875973727bd"
      },
      "execution_count": null,
      "outputs": [
        {
          "output_type": "stream",
          "name": "stdout",
          "text": [
            "result is 1.0\n"
          ]
        }
      ]
    },
    {
      "cell_type": "code",
      "metadata": {
        "id": "pyaPFd5_UsbF",
        "colab": {
          "base_uri": "https://localhost:8080/"
        },
        "outputId": "82f2d4e2-a369-4604-92ed-9544cc4c3396"
      },
      "source": [
        "#Q8[2pts]: Let us now consider a calculator tool program that performs some basic math.\n",
        "#   Using the commands if/elif/else write the function calc. \n",
        "#   Note that if the user is selecting something else than the operators (+,-,/,*),\n",
        "#   the function should return the string N/A (not applicable). Example of execution:\n",
        "\"\"\"\n",
        "First number:3.5\n",
        "Second number:6.5\n",
        "Choose an operation +,-,/,* :/\n",
        "3.5/6.5=0.5384615384615384\n",
        "\"\"\"\n",
        "\n",
        "# functions\n",
        "def calc(a,b,c):\n",
        "  if a==num1 and b==num2 and operation==\"+\":\n",
        "    return num1+num2\n",
        "  elif a==num1 and b==num2 and operation==\"-\":\n",
        "    return num1-num2\n",
        "  elif a==num1 and b==num2 and operation==\"*\":\n",
        "    return num1*num2\n",
        "  elif a==num1 and b==num2 and operation==\"/\":\n",
        "    return num1/num2\n",
        "  else:\n",
        "    return \"N/A\"       \n",
        "\n",
        "# Main program\n",
        "num1=float(input(\"First number:\"))\n",
        "num2=float(input(\"Second number:\"))\n",
        "operation=input(\"Choose an operation +,-,/,* :\")\n",
        "print(\"%s%s%s=%s\"%(num1,operation,num2,calc(num1,num2,operation)))"
      ],
      "execution_count": 7,
      "outputs": [
        {
          "output_type": "stream",
          "name": "stdout",
          "text": [
            "First number:3.5\n",
            "Second number:6.5\n",
            "Choose an operation +,-,/,* :/\n",
            "3.5/6.5=0.5384615384615384\n"
          ]
        }
      ]
    }
  ]
}